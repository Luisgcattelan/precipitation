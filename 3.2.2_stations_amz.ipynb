{
 "cells": [
  {
   "cell_type": "code",
   "execution_count": 39,
   "metadata": {},
   "outputs": [],
   "source": [
    "import matplotlib.pyplot as plt\n",
    "import numpy as np\n",
    "import pandas as pd\n",
    "import os\n",
    "from glob import glob\n",
    "import seaborn as sns\n",
    "import geopandas as gpd\n",
    "import xarray as xr\n",
    "import matplotlib.gridspec as gridspec\n",
    "import cartopy.crs as ccrs\n",
    "from scipy.stats import entropy\n",
    "import cartopy.feature as cf"
   ]
  },
  {
   "cell_type": "code",
   "execution_count": 40,
   "metadata": {},
   "outputs": [],
   "source": [
    "shp_pan = gpd.read_file(r'Data\\amazon\\panamz.geojson')\n",
    "import cartopy.crs as ccrs\n",
    "import cartopy.feature as cf"
   ]
  },
  {
   "cell_type": "code",
   "execution_count": 41,
   "metadata": {},
   "outputs": [
    {
     "name": "stderr",
     "output_type": "stream",
     "text": [
      "c:\\Users\\luisg\\anaconda3\\envs\\geo_env\\lib\\site-packages\\IPython\\core\\interactiveshell.py:3318: FutureWarning: The `op` parameter is deprecated and will be removed in a future release. Please use the `predicate` parameter instead.\n",
      "  if await self.run_code(code, result, async_=asy):\n"
     ]
    }
   ],
   "source": [
    "shp_pan = gpd.read_file(r'Data\\amazon\\panamz.geojson')\n",
    "#stations geodataframe\n",
    "gdf = gpd.read_file(r'Data\\all_stations.geojson')\n",
    "# rainfall cleaned data\n",
    "df_bet= pd.read_pickle('Data\\ALL_01_20_bet.pkl')\n",
    "gdf_filtered = gdf[gdf.Code.isin(df_bet.Code.unique())].to_crs(shp_pan.crs)\n",
    "gdf_pan = gpd.sjoin(gdf_filtered, shp_pan, how='inner', op='intersects')"
   ]
  },
  {
   "attachments": {},
   "cell_type": "markdown",
   "metadata": {},
   "source": [
    "## test plot months"
   ]
  },
  {
   "cell_type": "code",
   "execution_count": 11,
   "metadata": {},
   "outputs": [],
   "source": [
    "# get points from gdf_filtered that are inside shp\n",
    "gdf_amz = gdf_pan\n",
    "df_amz =  df_bet[df_bet.Code.isin(gdf_amz.Code.unique())]\n",
    "#df_amz to pkl\n",
    "#df_amz.to_pickle(r'Data\\amazon\\df_amz_bet.pkl')"
   ]
  },
  {
   "cell_type": "code",
   "execution_count": 94,
   "metadata": {},
   "outputs": [
    {
     "name": "stderr",
     "output_type": "stream",
     "text": [
      "C:\\Users\\luisg\\AppData\\Local\\Temp\\ipykernel_18884\\152352569.py:1: FutureWarning: The default value of numeric_only in DataFrameGroupBy.mean is deprecated. In a future version, numeric_only will default to False. Either specify numeric_only or select only columns which should be valid for the function.\n",
      "  df_clima = df_amz.groupby(['Code', df_amz.Date.dt.month]).mean()\n"
     ]
    }
   ],
   "source": [
    "df_clima = df_amz.groupby(['Code', df_amz.Date.dt.month]).mean()\n",
    "df_clima = df_clima.unstack()\n",
    "df_clima.columns = df_clima.columns.droplevel(0)\n",
    "df_clima.columns = ['Jan', 'Feb', 'Mar', 'Apr', 'May', 'Jun', 'Jul', 'Aug', 'Sep', 'Oct', 'Nov', 'Dec']\n",
    "df_clima = df_clima.join(gdf_amz.set_index('Code')['geometry'])\n",
    "df_clima = gpd.GeoDataFrame(df_clima)"
   ]
  },
  {
   "cell_type": "code",
   "execution_count": 95,
   "metadata": {},
   "outputs": [],
   "source": [
    "vmax = 400\n",
    "vmin = 0\n",
    "#df_clima[['Jan', 'Feb', 'Mar', 'Apr', 'May', 'Jun', 'Jul', 'Aug', 'Sep', 'Oct', 'Nov', 'Dec']].max().max()\n",
    "#df_clima[['Jan', 'Feb', 'Mar', 'Apr', 'May', 'Jun', 'Jul', 'Aug', 'Sep', 'Oct', 'Nov', 'Dec']].min().min()\n",
    "sm = plt.cm.ScalarMappable(cmap='viridis', norm=plt.Normalize(vmin=vmin, vmax=vmax))\n",
    "# fake up the array of the scalar mappable. Urgh...\n",
    "sm._A = []"
   ]
  },
  {
   "cell_type": "code",
   "execution_count": 96,
   "metadata": {},
   "outputs": [],
   "source": [
    "##plot for each month of df_clima\n",
    "#fig, axes = plt.subplots(4, 3, figsize=(10,15))\n",
    "#axes = axes.flatten()\n",
    "#cax = fig.add_axes([1, 0.1, 0.03, 0.8])\n",
    "#fig.colorbar(sm, cax=cax, extend='both')\n",
    "#\n",
    "#for i, ax in enumerate(axes):\n",
    "#    shp_amz.plot(ax = ax, color='white', edgecolor='black')\n",
    "#    df_clima.plot(column=df_clima.columns[i], ax=ax, vmin=vmin, vmax=vmax, markersize=10)\n",
    "#    ax.set_title(df_clima.columns[i])\n",
    "#"
   ]
  },
  {
   "attachments": {},
   "cell_type": "markdown",
   "metadata": {},
   "source": [
    "# metrics"
   ]
  },
  {
   "cell_type": "code",
   "execution_count": 4,
   "metadata": {},
   "outputs": [
    {
     "name": "stderr",
     "output_type": "stream",
     "text": [
      "C:\\Users\\luisg\\AppData\\Local\\Temp\\ipykernel_19900\\200304027.py:2: FutureWarning: The default value of numeric_only in DataFrameGroupBy.mean is deprecated. In a future version, numeric_only will default to False. Either specify numeric_only or select only columns which should be valid for the function.\n",
      "  gdf_amz['MAP'] = (df_amz.groupby(['Code']).mean()*12).sort_index()\n"
     ]
    }
   ],
   "source": [
    "gdf_amz = gdf_amz.set_index('Code').sort_index()\n",
    "gdf_amz['MAP'] = (df_amz.groupby(['Code']).mean()*12).sort_index()\n",
    "gdf_amz = gdf_amz[['Name', 'Latitude', 'Longitude', 'Altitude', 'geometry','MAP']]\n",
    "#gdf_amz.to_file(r'Data\\amazon\\gdf_amz_metrics.geojson', driver='GeoJSON')"
   ]
  },
  {
   "cell_type": "code",
   "execution_count": 5,
   "metadata": {},
   "outputs": [],
   "source": [
    "df_dry = df_amz[df_amz['Total']<100]\n",
    "gdf_amz['DSL'] = df_dry.groupby(['Code', df_dry.Date.dt.year]).size().groupby('Code').mean()\n",
    "gdf_amz['DSL'] = gdf_amz['DSL'].fillna(0)"
   ]
  },
  {
   "cell_type": "code",
   "execution_count": 6,
   "metadata": {},
   "outputs": [
    {
     "name": "stderr",
     "output_type": "stream",
     "text": [
      "C:\\Users\\luisg\\AppData\\Local\\Temp\\ipykernel_19900\\2058043839.py:3: FutureWarning: The default value of numeric_only in DataFrameGroupBy.sum is deprecated. In a future version, numeric_only will default to False. Either specify numeric_only or select only columns which should be valid for the function.\n",
      "  df_amz['ratio'] = df_amz['Total'] / df_amz.groupby(['Code', df_amz.Date.dt.year]).transform(np.sum)['Total']\n"
     ]
    }
   ],
   "source": [
    "#calculate Relative Entropy\n",
    "df_amz = df_amz.sort_values(by=['Code', 'Date']).reset_index(drop=True)\n",
    "df_amz['ratio'] = df_amz['Total'] / df_amz.groupby(['Code', df_amz.Date.dt.year]).transform(np.sum)['Total']\n",
    "uniform = np.zeros(12)\n",
    "uniform[:] = 1/12\n",
    "# aplly the entropy function to the ratio column for each code\n",
    "df_amz_ent_year = df_amz.groupby(['Code', df_amz.Date.dt.year])['ratio'].apply(lambda x: entropy(x, qk=uniform,base=2)).reset_index().rename({'ratio': 'Entropy'},  axis='columns')\n",
    "ent_y = df_amz_ent_year.groupby('Code')['Entropy'].mean().reset_index()\n",
    "gdf_amz['Entropy'] = ent_y.set_index('Code')['Entropy']"
   ]
  },
  {
   "cell_type": "code",
   "execution_count": 9,
   "metadata": {},
   "outputs": [],
   "source": [
    "# seasonal climatology\n",
    "df_amz['month'] = df_amz.Date.dt.month\n",
    "df_amz['season'] = df_amz['month'].apply(lambda x: 'DJF' if x in [12,1,2] else 'MAM' if x in [3,4,5] else 'JJA' if x in [6,7,8] else 'SON')\n"
   ]
  },
  {
   "cell_type": "code",
   "execution_count": 13,
   "metadata": {},
   "outputs": [
    {
     "name": "stderr",
     "output_type": "stream",
     "text": [
      "C:\\Users\\luisg\\AppData\\Local\\Temp\\ipykernel_19900\\223084753.py:1: FutureWarning: The default value of numeric_only in DataFrameGroupBy.mean is deprecated. In a future version, numeric_only will default to False. Either specify numeric_only or select only columns which should be valid for the function.\n",
      "  df_sea = df_amz.groupby(['Code', 'season']).mean().reset_index().pivot(index='Code', columns='season', values='Total')\n"
     ]
    }
   ],
   "source": [
    "df_sea = df_amz.groupby(['Code', 'season']).mean().reset_index().pivot(index='Code', columns='season', values='Total')"
   ]
  },
  {
   "cell_type": "code",
   "execution_count": 15,
   "metadata": {},
   "outputs": [],
   "source": [
    "#merge to gdf_amz\n",
    "gdf_amz = gdf_amz.join(df_sea)"
   ]
  },
  {
   "cell_type": "code",
   "execution_count": 16,
   "metadata": {},
   "outputs": [],
   "source": [
    "#gdf_amz.to_file(r'Data\\amazon\\gdf_amz_metrics.geojson', driver='GeoJSON')"
   ]
  },
  {
   "cell_type": "markdown",
   "metadata": {},
   "source": [
    "# seasonal"
   ]
  },
  {
   "attachments": {},
   "cell_type": "markdown",
   "metadata": {},
   "source": [
    "## all stations"
   ]
  },
  {
   "cell_type": "code",
   "execution_count": null,
   "metadata": {},
   "outputs": [],
   "source": []
  }
 ],
 "metadata": {
  "kernelspec": {
   "display_name": "geo_env",
   "language": "python",
   "name": "python3"
  },
  "language_info": {
   "codemirror_mode": {
    "name": "ipython",
    "version": 3
   },
   "file_extension": ".py",
   "mimetype": "text/x-python",
   "name": "python",
   "nbconvert_exporter": "python",
   "pygments_lexer": "ipython3",
   "version": "3.10.6"
  },
  "orig_nbformat": 4
 },
 "nbformat": 4,
 "nbformat_minor": 2
}
