{
 "cells": [
  {
   "cell_type": "code",
   "execution_count": 1,
   "metadata": {},
   "outputs": [],
   "source": [
    "import matplotlib.pyplot as plt\n",
    "import numpy as np\n",
    "import pandas as pd\n",
    "import os\n",
    "from glob import glob\n",
    "import seaborn as sns\n",
    "import geopandas as gpd\n",
    "import xarray as xr\n",
    "from shapely.geometry import mapping\n",
    "shp_pan = gpd.read_file(r'Data\\shapefiles\\panamz.geojson').to_crs('EPSG:4326')\n"
   ]
  },
  {
   "cell_type": "code",
   "execution_count": 2,
   "metadata": {},
   "outputs": [],
   "source": [
    "##clip cru to amz shp\n",
    "#from shapely.geometry import mapping\n",
    "folder_clean = r'Data\\Datasets\\clean'\n",
    "folder_amz = r'Data\\Datasets\\amz\\ts'\n",
    "#filter from 2001 to 2020\n",
    "begin_date = '2001-01-01'\n",
    "end_date = '2020-12-31'\n",
    "lat_min = -20\n",
    "lat_max = 11\n",
    "lon_min = -81\n",
    "lon_max = -42\n"
   ]
  },
  {
   "cell_type": "code",
   "execution_count": 2,
   "metadata": {},
   "outputs": [],
   "source": [
    "datasets = ['cru', 'gpcc', 'chirps','imerg', 'terra', 'era_land', 'jra55','merra2']\n",
    "datasets_names = ['CRU', 'GPCC', 'CHIRPS','IMERG-V6', 'TerraClimate', 'ERA5-Land', 'JRA55','MERRA2']"
   ]
  },
  {
   "cell_type": "code",
   "execution_count": 3,
   "metadata": {},
   "outputs": [
    {
     "ename": "NameError",
     "evalue": "name 'glob' is not defined",
     "output_type": "error",
     "traceback": [
      "\u001b[1;31m---------------------------------------------------------------------------\u001b[0m",
      "\u001b[1;31mNameError\u001b[0m                                 Traceback (most recent call last)",
      "\u001b[1;32md:\\GU\\IC\\Scripts\\3.1.2_amz.ipynb Cell 4\u001b[0m line \u001b[0;36m3\n\u001b[0;32m      <a href='vscode-notebook-cell:/d%3A/GU/IC/Scripts/3.1.2_amz.ipynb#W3sZmlsZQ%3D%3D?line=0'>1</a>\u001b[0m \u001b[39mfor\u001b[39;00m dataset \u001b[39min\u001b[39;00m datasets:\n\u001b[0;32m      <a href='vscode-notebook-cell:/d%3A/GU/IC/Scripts/3.1.2_amz.ipynb#W3sZmlsZQ%3D%3D?line=1'>2</a>\u001b[0m     \u001b[39m#read file of dataset in folder_clean\u001b[39;00m\n\u001b[1;32m----> <a href='vscode-notebook-cell:/d%3A/GU/IC/Scripts/3.1.2_amz.ipynb#W3sZmlsZQ%3D%3D?line=2'>3</a>\u001b[0m     file_path \u001b[39m=\u001b[39m glob(os\u001b[39m.\u001b[39mpath\u001b[39m.\u001b[39mjoin(folder_clean, dataset \u001b[39m+\u001b[39m \u001b[39m'\u001b[39m\u001b[39m.nc\u001b[39m\u001b[39m'\u001b[39m))\n\u001b[0;32m      <a href='vscode-notebook-cell:/d%3A/GU/IC/Scripts/3.1.2_amz.ipynb#W3sZmlsZQ%3D%3D?line=3'>4</a>\u001b[0m     ds \u001b[39m=\u001b[39m xr\u001b[39m.\u001b[39mopen_dataset(file_path[\u001b[39m0\u001b[39m])\u001b[39m.\u001b[39msel(time\u001b[39m=\u001b[39m\u001b[39mslice\u001b[39m(begin_date, end_date), lat\u001b[39m=\u001b[39m\u001b[39mslice\u001b[39m(lat_min, lat_max), lon\u001b[39m=\u001b[39m\u001b[39mslice\u001b[39m(lon_min, lon_max))\n\u001b[0;32m      <a href='vscode-notebook-cell:/d%3A/GU/IC/Scripts/3.1.2_amz.ipynb#W3sZmlsZQ%3D%3D?line=4'>5</a>\u001b[0m     ds_amz \u001b[39m=\u001b[39m ds\u001b[39m.\u001b[39mrio\u001b[39m.\u001b[39mwrite_crs(shp_pan\u001b[39m.\u001b[39mcrs)\u001b[39m.\u001b[39mrio\u001b[39m.\u001b[39mset_spatial_dims(x_dim\u001b[39m=\u001b[39m\u001b[39m'\u001b[39m\u001b[39mlon\u001b[39m\u001b[39m'\u001b[39m, y_dim\u001b[39m=\u001b[39m\u001b[39m'\u001b[39m\u001b[39mlat\u001b[39m\u001b[39m'\u001b[39m)\u001b[39m.\u001b[39mrio\u001b[39m.\u001b[39mclip(shp_pan\u001b[39m.\u001b[39mgeometry\u001b[39m.\u001b[39mapply(mapping), shp_pan\u001b[39m.\u001b[39mcrs, drop\u001b[39m=\u001b[39m\u001b[39mFalse\u001b[39;00m)\n",
      "\u001b[1;31mNameError\u001b[0m: name 'glob' is not defined"
     ]
    }
   ],
   "source": [
    "for dataset in datasets:\n",
    "    #read file of dataset in folder_clean\n",
    "    file_path = glob(os.path.join(folder_clean, dataset + '.nc'))\n",
    "    ds = xr.open_dataset(file_path[0]).sel(time=slice(begin_date, end_date), lat=slice(lat_min, lat_max), lon=slice(lon_min, lon_max))\n",
    "    ds_amz = ds.rio.write_crs(shp_pan.crs).rio.set_spatial_dims(x_dim='lon', y_dim='lat').rio.clip(shp_pan.geometry.apply(mapping), shp_pan.crs, drop=False)\n",
    "    #save clipped dataset\n",
    "    if dataset == 'terra':\n",
    "        vars_list = list(ds_amz.data_vars)  \n",
    "        for var in vars_list:  \n",
    "            del ds_amz[var].attrs['grid_mapping']\n",
    "\n",
    "\n",
    "    ds_amz.to_netcdf(os.path.join(folder_amz, dataset + '.nc'))"
   ]
  },
  {
   "cell_type": "code",
   "execution_count": 3,
   "metadata": {},
   "outputs": [
    {
     "name": "stdout",
     "output_type": "stream",
     "text": [
      "ccs\n"
     ]
    }
   ],
   "source": [
    "datasets_extras = ['cpc', 'cmap', 'gpcp', 'persiann', 'ccs', 'cdr', 'mswep',\n",
    "                    'mswep_nogauge', 'gldas', 'era', 'ncep1', 'ncep2']\n",
    "datasets_names_extras = ['CPC', 'CMAP', 'GPCP v3.2', 'PERSIANN', 'PERSIANN-CCS', 'PERSIANN-CDR', 'MSWEP v2.8',\n",
    "                    'MSWEP_nogauge v2.8', 'GLDAS v2.1', 'ERA5', 'NCEP R1', 'NCEP R2']\n",
    "\n",
    "\n",
    "for dataset in datasets_extras:\n",
    "    #read file of dataset in folder_clean\n",
    "    file_path = glob(os.path.join(folder_clean, dataset + '.nc'))\n",
    "    ds = xr.open_dataset(file_path[0]).sel(time=slice(begin_date, end_date), lat=slice(lat_min, lat_max), lon=slice(lon_min, lon_max))\n",
    "    ds_amz = ds.pr.rio.write_crs('EPSG:4326').rio.set_spatial_dims(x_dim='lon', y_dim='lat').rio.clip(shp_pan.geometry.apply(mapping),  crs=shp_pan.crs,drop=False)\n",
    "    #save clipped dataset\n",
    "    ds_amz = ds_amz.to_dataset(name='pr')\n",
    "    #delete grid mapping if it exists\n",
    "    if 'grid_mapping' in ds_amz.pr.attrs:\n",
    "        del ds_amz.pr.attrs['grid_mapping']\n",
    "\n",
    "    print(dataset)\n",
    "    ds_amz.to_netcdf(os.path.join(folder_amz, dataset + '.nc'))"
   ]
  },
  {
   "cell_type": "code",
   "execution_count": null,
   "metadata": {},
   "outputs": [],
   "source": []
  }
 ],
 "metadata": {
  "kernelspec": {
   "display_name": "geo_env",
   "language": "python",
   "name": "python3"
  },
  "language_info": {
   "codemirror_mode": {
    "name": "ipython",
    "version": 3
   },
   "file_extension": ".py",
   "mimetype": "text/x-python",
   "name": "python",
   "nbconvert_exporter": "python",
   "pygments_lexer": "ipython3",
   "version": "3.10.6"
  },
  "orig_nbformat": 4
 },
 "nbformat": 4,
 "nbformat_minor": 2
}
