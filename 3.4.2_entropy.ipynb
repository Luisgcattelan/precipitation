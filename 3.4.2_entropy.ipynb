{
 "cells": [
  {
   "cell_type": "markdown",
   "metadata": {},
   "source": [
    "# setup\n"
   ]
  },
  {
   "cell_type": "code",
   "execution_count": 1,
   "metadata": {},
   "outputs": [],
   "source": [
    "import matplotlib.pyplot as plt\n",
    "import numpy as np\n",
    "import pandas as pd\n",
    "import os\n",
    "from glob import glob\n",
    "import seaborn as sns\n",
    "import geopandas as gpd\n",
    "import xarray as xr\n",
    "import rioxarray\n",
    "import matplotlib.gridspec as gridspec\n",
    "import cartopy.crs as ccrs\n",
    "import matplotlib as mpl\n",
    "from cmcrameri import cm\n",
    "from pymannkendall import original_test\n",
    "from scipy.stats import entropy\n",
    "\n",
    "folder_ts = r'Data\\Datasets\\amz\\ts'\n",
    "folder_metric = r'Data\\Datasets\\amz\\ent'\n",
    "datasets = ['cru', 'gpcc', 'chirps','imerg', 'terra', 'era_land', 'jra55','merra2']\n",
    "datasets_names = ['CRU', 'GPCC', 'CHIRPS','IMERG-V6', 'TerraClimate', 'ERA5-Land', 'JRA55','MERRA2']\n",
    "\n"
   ]
  },
  {
   "cell_type": "code",
   "execution_count": 2,
   "metadata": {},
   "outputs": [],
   "source": [
    "# functions\n",
    "def mannkendall_trend(arr):\n",
    "    if not np.isnan(arr).any():\n",
    "        result = original_test(arr)\n",
    "        return result.p, result.slope, result.intercept\n",
    "    else:\n",
    "        return np.nan, np.nan, np.nan\n",
    "\n",
    "def ds_kendall(data, dim, var='pr'):\n",
    "    results =  xr.apply_ufunc(mannkendall_trend, data,\n",
    "                             input_core_dims=[[dim]],\n",
    "                             output_core_dims=[[], [],[]],\n",
    "                             vectorize=True,\n",
    "                             dask='parallelized')\n",
    "    \n",
    "    \n",
    "    # Extract the p-values and Sen's slopes from the results\n",
    "    p_values = results[0]\n",
    "    slopes = results[1]\n",
    "    intercepts = results[2]\n",
    "    \n",
    "    # Create a new xarray dataset to store the results\n",
    "    results_dataset = xr.Dataset({'p_values': p_values[var], 'slopes': slopes[var], 'intercepts': intercepts[var]})\n",
    "    return results_dataset\n",
    "def yearly_ratio(x):\n",
    "    return x / (x.mean(dim='time')*12)\n",
    "\n",
    "def entropy_models(ds):\n",
    "    \n",
    "    ds['ratio'] = ds.groupby('time.year').apply(yearly_ratio).pr\n",
    "    uniform = np.zeros((12, ds.pr.shape[1], ds.pr.shape[2]))\n",
    "    uniform[:] = 1/12\n",
    "    ds['ent'] = ds.ratio.groupby('time.year').reduce(entropy, qk = uniform, base=2, dim='time')\n",
    "    return ds[['ent']]\n"
   ]
  },
  {
   "cell_type": "markdown",
   "metadata": {},
   "source": [
    "# ts clim trend"
   ]
  },
  {
   "cell_type": "code",
   "execution_count": 3,
   "metadata": {},
   "outputs": [],
   "source": [
    "for dataset in datasets:\n",
    "    #read file of dataset in folder_clean\n",
    "    file_path = glob(os.path.join(folder_ts, dataset + '.nc'))\n",
    "    ds = xr.open_dataset(file_path[0])\n",
    "    ds_ts = entropy_models(ds)\n",
    "    #pr times 12\n",
    "    ds_clim = ds_ts.mean('year')\n",
    "    ds_trend =  ds_kendall(ds_ts, 'year', var='ent')\n",
    "    #save\n",
    "    ds_ts.to_netcdf(os.path.join(folder_metric, dataset + '.nc'))\n",
    "    ds_clim.to_netcdf(os.path.join(folder_metric,'clim', dataset + '.nc'))\n",
    "    ds_trend.to_netcdf(os.path.join(folder_metric,'trend', dataset + '.nc'))"
   ]
  },
  {
   "cell_type": "markdown",
   "metadata": {},
   "source": [
    "# station\n"
   ]
  },
  {
   "cell_type": "code",
   "execution_count": 3,
   "metadata": {},
   "outputs": [],
   "source": [
    "stations = gpd.read_file(r'Data\\Evaluation\\stations_amz_ANA.geojson')\n",
    "df_stat= pd.read_pickle(r'Data\\Evaluation\\amz_01_20_20bet.pkl')\n"
   ]
  },
  {
   "cell_type": "code",
   "execution_count": 4,
   "metadata": {},
   "outputs": [
    {
     "name": "stderr",
     "output_type": "stream",
     "text": [
      "C:\\Users\\luisg\\AppData\\Local\\Temp\\ipykernel_19384\\4080269300.py:3: FutureWarning: The default value of numeric_only in DataFrameGroupBy.sum is deprecated. In a future version, numeric_only will default to False. Either specify numeric_only or select only columns which should be valid for the function.\n",
      "  df_stat['ratio'] = df_stat['Total'] / df_stat.groupby(['Code', df_stat.Date.dt.year]).transform(np.sum)['Total']\n"
     ]
    }
   ],
   "source": [
    "#calculate Relative Entropy\n",
    "df_stat = df_stat.sort_values(by=['Code', 'Date']).reset_index(drop=True)\n",
    "df_stat['ratio'] = df_stat['Total'] / df_stat.groupby(['Code', df_stat.Date.dt.year]).transform(np.sum)['Total']\n",
    "uniform = np.zeros(12)\n",
    "uniform[:] = 1/12\n",
    "# aplly the entropy function to the ratio column for each code\n",
    "df_ts = df_stat.groupby(['Code', df_stat.Date.dt.year])['ratio'].apply(lambda x: entropy(x, qk=uniform,base=2)).reset_index().rename({'ratio': 'ent'},  axis='columns')\n",
    "df_clim = df_ts.groupby('Code')['ent'].mean().reset_index()\n",
    "stations = stations.merge(df_clim, on='Code')\n",
    "stations['ent'] = stations['ent'].fillna(0)\n",
    "for code in df_ts.Code.unique():\n",
    "    test = original_test(df_ts[df_ts.Code == code]['ent'])\n",
    "    stations.loc[stations.Code == code, 'p'+ '_' + 'ent'] = test.p\n",
    "    stations.loc[stations.Code == code, 'slope'+ '_' + 'ent'] = test.slope\n",
    "    stations.loc[stations.Code == code, 'intercept'+ '_' + 'ent'] = test.intercept\n",
    "\n",
    "#save stations as stations map\n",
    "stations.to_file(os.path.join(folder_metric, 'stations.geojson'), driver='GeoJSON')\n",
    "df_ts.to_csv(os.path.join(folder_metric, 'stations_ts.csv'))\n",
    "\n"
   ]
  }
 ],
 "metadata": {
  "kernelspec": {
   "display_name": "geo_env",
   "language": "python",
   "name": "python3"
  },
  "language_info": {
   "codemirror_mode": {
    "name": "ipython",
    "version": 3
   },
   "file_extension": ".py",
   "mimetype": "text/x-python",
   "name": "python",
   "nbconvert_exporter": "python",
   "pygments_lexer": "ipython3",
   "version": "3.10.6"
  },
  "orig_nbformat": 4
 },
 "nbformat": 4,
 "nbformat_minor": 2
}
