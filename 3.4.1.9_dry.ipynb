{
 "cells": [
  {
   "cell_type": "code",
   "execution_count": 17,
   "metadata": {},
   "outputs": [],
   "source": [
    "import matplotlib.pyplot as plt\n",
    "import numpy as np\n",
    "import pandas as pd\n",
    "import os\n",
    "from glob import glob\n",
    "import seaborn as sns\n",
    "import geopandas as gpd\n",
    "import xarray as xr\n",
    "import rioxarray\n",
    "import matplotlib.gridspec as gridspec\n",
    "import cartopy.crs as ccrs\n",
    "import matplotlib as mpl\n",
    "from cmcrameri import cm\n",
    "from pymannkendall import original_test\n",
    "from scipy.stats import entropy\n",
    "folder_ts = r'Data\\Datasets\\amz\\ts'\n",
    "folder_metric = r'Data\\Datasets\\amz\\dry'\n",
    "datasets = ['cru', 'gpcc', 'chirps','imerg', 'terra', 'era_land', 'jra55','merra2']\n",
    "datasets_names = ['CRU', 'GPCC', 'CHIRPS','IMERG-V6', 'TerraClimate', 'ERA5-Land', 'JRA55','MERRA2']\n",
    "evapotranspiration = 100"
   ]
  },
  {
   "cell_type": "code",
   "execution_count": 18,
   "metadata": {},
   "outputs": [],
   "source": [
    "def start_dry(x):\n",
    "    result = np.asarray(x, dtype=float).copy()\n",
    "    for i in range(len(result)):\n",
    "    #return the index of the first True value\n",
    "        if result[i] == True:\n",
    "            return i\n",
    "def dryest_month(x):\n",
    "    result = np.asarray(x, dtype=float).copy()\n",
    "    return pd.Series(x).idxmin()        "
   ]
  },
  {
   "cell_type": "code",
   "execution_count": null,
   "metadata": {},
   "outputs": [],
   "source": [
    "for dataset in datasets:\n",
    "    #read file of dataset in folder_clean\n",
    "    file_path = glob(os.path.join(folder_ts, dataset + '.nc'))\n",
    "    ds = xr.open_dataset(file_path[0])\n",
    "    ds_minus_et = ds < evapotranspiration\n",
    "    ds_start = xr.apply_ufunc(start_dry, ds_minus_et['pr'].groupby('time.year'),\n",
    "                                    input_core_dims=[['time']],\n",
    "                                    output_core_dims=[[]],\n",
    "                                    vectorize=True, dask='parallelized')\n",
    "    ds_start = ds_start.astype('float32')\n",
    "    dsl_ts = (ds.pr < 100).groupby('time.year').sum(dim='time')\n",
    "    # merge data\n",
    "    ds_start = ds_start.to_dataset(name='dry_start')\n",
    "    dsl_ts = dsl_ts.to_dataset(name='dsl')\n",
    "    ds_start = ds_start.merge(dsl_ts)\n",
    "    dryy = xr.apply_ufunc(dryest_month, ds['pr'].groupby('time.year'),\n",
    "                                    input_core_dims=[['time']],\n",
    "                                    output_core_dims=[[]],\n",
    "                                    vectorize=True, dask='parallelized')\n",
    "    ds_dry = dryy.astype('float32').to_dataset(name='driest')\n",
    "    ds_start = ds_start.merge(ds_dry)\n",
    "    ds_median = ds_start.median('year')\n",
    "    ds_start.to_netcdf(os.path.join(folder_metric, dataset + '.nc'))\n",
    "    ds_median.to_netcdf(os.path.join(folder_metric,'median', dataset + '.nc'))\n"
   ]
  },
  {
   "cell_type": "markdown",
   "metadata": {},
   "source": [
    "# station"
   ]
  },
  {
   "cell_type": "code",
   "execution_count": 52,
   "metadata": {},
   "outputs": [],
   "source": [
    "stations = gpd.read_file(r'Data\\Evaluation\\stations_amz_ANA.geojson')\n",
    "df_stat= pd.read_pickle(r'Data\\Evaluation\\amz_01_20_20bet.pkl').sort_values(by=['Code', 'Date']).reset_index(drop=True)\n",
    "df_stat['dry']= df_stat['Total'] < evapotranspiration\n",
    "df_ts = df_stat.groupby(['Code', df_stat.Date.dt.year])['dry'].apply(start_dry).reset_index().rename({'dry':'start'},  axis='columns')\n",
    "df_ts['driest'] = df_stat.groupby(['Code', df_stat.Date.dt.year])['Total'].apply(dryest_month).reset_index().rename({'Total':'driest'},  axis='columns')['driest']\n",
    "#from driest, take only the rest from division by 12\n",
    "df_ts['driest'] = df_ts['driest'] % 12"
   ]
  },
  {
   "cell_type": "code",
   "execution_count": 56,
   "metadata": {},
   "outputs": [],
   "source": [
    "df_median = df_ts.groupby('Code')[['start','driest']].median().reset_index()\n",
    "stations = stations.merge(df_median,  on='Code')"
   ]
  },
  {
   "cell_type": "code",
   "execution_count": null,
   "metadata": {},
   "outputs": [],
   "source": [
    "stations.to_file(os.path.join(folder_metric, 'stations.geojson'), driver='GeoJSON')\n",
    "df_ts.to_csv(os.path.join(folder_metric, 'stations_ts.csv'))"
   ]
  }
 ],
 "metadata": {
  "kernelspec": {
   "display_name": "geo_env",
   "language": "python",
   "name": "python3"
  },
  "language_info": {
   "codemirror_mode": {
    "name": "ipython",
    "version": 3
   },
   "file_extension": ".py",
   "mimetype": "text/x-python",
   "name": "python",
   "nbconvert_exporter": "python",
   "pygments_lexer": "ipython3",
   "version": "3.10.6"
  },
  "orig_nbformat": 4
 },
 "nbformat": 4,
 "nbformat_minor": 2
}
